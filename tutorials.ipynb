{
 "cells": [
  {
   "cell_type": "code",
   "execution_count": null,
   "id": "de5ff1ea",
   "metadata": {},
   "outputs": [],
   "source": [
    "#Autoreload so you don't have to restart the kernel every time you make a change to the source code\n",
    "%load_ext autoreload\n",
    "%autoreload 2"
   ]
  },
  {
   "cell_type": "markdown",
   "id": "62e2ced1",
   "metadata": {},
   "source": [
    "### 1: Generate a pandas dataframe containing convex hull data ###"
   ]
  },
  {
   "cell_type": "code",
   "execution_count": null,
   "id": "1af2b19b",
   "metadata": {},
   "outputs": [],
   "source": [
    "import CHQuant_test"
   ]
  },
  {
   "cell_type": "code",
   "execution_count": null,
   "id": "5d8a6d70",
   "metadata": {},
   "outputs": [],
   "source": [
    "from CHQuant_test.data import df_from_path\n",
    "# import pandas as pd\n",
    "\n",
    "#Path to XYZ trajectory\n",
    "#The trajectory should be aligned (Bienfait's metadynamics scripts do this automatically)\n",
    "#You can also put a path to a directory containing XYZs for the same molecule (atom ordering needs to be the same)\n",
    "input_path = \"example_data/paracetamol_xtb300K_rotated.xyz\"\n",
    "\n",
    "df = df_from_path(input_path)\n",
    "df\n",
    "# df.to_csv(\"example_from_xyz.csv\") #Save as CSV"
   ]
  },
  {
   "cell_type": "code",
   "execution_count": null,
   "id": "decd1c4b",
   "metadata": {},
   "outputs": [],
   "source": [
    "from CHQuant.data import df_from_path\n",
    "import pandas as pd\n",
    "\n",
    "#Path to XYZ trajectory\n",
    "#The trajectory should be aligned (Bienfait's metadynamics scripts do this automatically)\n",
    "#You can also put a path to a directory containing XYZs for the same molecule (atom ordering needs to be the same)\n",
    "input_path = \"example_data/paracetamol_xtb300K_rotated.xyz\"\n",
    "\n",
    "df = df_from_path(input_path)\n",
    "df\n",
    "# df.to_csv(\"example_from_xyz.csv\") #Save as CSV"
   ]
  },
  {
   "cell_type": "markdown",
   "id": "f934244a",
   "metadata": {},
   "source": [
    "### 2: Generate and save convex hull vertices and atomic point clouds ###"
   ]
  },
  {
   "cell_type": "code",
   "execution_count": null,
   "id": "ee976d69",
   "metadata": {},
   "outputs": [],
   "source": [
    "#Generate and save vertices\n",
    "from CHQuant.vertices import generate_atomic_convex_hulls, save_vertices_points\n",
    "\n",
    "#Path to XYZ trajectory\n",
    "input_path = \"example_data/paracetamol_xtb300K_rotated.xyz\"\n",
    "\n",
    "#Output directory\n",
    "output_dir = \"example_data/example_vertices\"\n",
    "\n",
    "#List of atoms (or edit to whatever you want the vertices CSVs to be called)\n",
    "atomcount = int(open(input_path).readline())\n",
    "atomlist = [a.split()[0]+str(i-1) for (i, a) in enumerate(open(input_path)) if i < atomcount+2 and i > 1]\n",
    "\n",
    "#Generate atomic convex hulls (list of scipy convexhull objects)\n",
    "atomic_convex_hulls = generate_atomic_convex_hulls(input_path)\n",
    "\n",
    "#Save atomic convex hull vertices\n",
    "for hull,filename in zip(atomic_convex_hulls,atomlist):\n",
    "    save_vertices_points(hull, filename, output_dir)"
   ]
  },
  {
   "cell_type": "markdown",
   "id": "682622d7",
   "metadata": {},
   "source": [
    "### 3: Generating a pandas dataframe containing convex hull data from vertices ###"
   ]
  },
  {
   "cell_type": "code",
   "execution_count": null,
   "id": "de83d236",
   "metadata": {
    "scrolled": true
   },
   "outputs": [],
   "source": [
    "from CHQuant.data import df_from_points\n",
    "from CHQuant.vertices import load_directory_convex\n",
    "\n",
    "#Path to a directory containing CSVs of atomic convex hull vertices\n",
    "# input_path = \"example_data/paracetamol_xtb300K_vertices/\"\n",
    "input_path = \"example_data/example_vertices/\"\n",
    "\n",
    "system_name = \"Paracetamol xTB 300K\"\n",
    "\n",
    "atom_names, point_clouds, hull_vertices = load_directory_convex(input_path)\n",
    "df = df_from_points(point_clouds, system_name,atom_names)\n",
    "df\n",
    "# df.to_csv(\"example_from_points.csv\")"
   ]
  },
  {
   "cell_type": "markdown",
   "id": "6132d079",
   "metadata": {},
   "source": [
    "### 4: Check atomic CHs for overlaps ###"
   ]
  },
  {
   "cell_type": "code",
   "execution_count": null,
   "id": "3c1996a0",
   "metadata": {},
   "outputs": [],
   "source": [
    "#Checking functional group list\n",
    "#Edit the file to add new molecules & functional groups\n",
    "from CHQuant.functional_group_list import molecule_atomcounts, molecule_functional_groups\n",
    "\n",
    "print(molecule_functional_groups[\"paracetamol\"])\n",
    "# print(molecule_atomcounts)"
   ]
  },
  {
   "cell_type": "code",
   "execution_count": null,
   "id": "033cde29",
   "metadata": {},
   "outputs": [],
   "source": [
    "from CHQuant.functional_group_list import molecule_atomcounts, molecule_functional_groups\n",
    "from CHQuant.functional_groups import functional_group_overlap_check\n",
    "\n",
    "#Functional group names, atom indices are currently stored in functional_group_list.py\n",
    "\n",
    "#Path to directory containing vertices CSVs\n",
    "input_path = \"example_data/example_vertices/\"\n",
    "\n",
    "#Molecule name\n",
    "molecule_name = \"paracetamol\"\n",
    "\n",
    "#Index of functional group to check\n",
    "# functional_group = \"Methyl\"\n",
    "functional_group_index = 0\n",
    "\n",
    "functional_group_overlap_check(input_path, molecule_functional_groups[molecule_name][0][functional_group_index])\n",
    "\n",
    "#change functional group list to dicts instead of separate lists...?? Or use zip to go through them?\n",
    "#should FGs be numbered? i.e. methyl1, methyl2..."
   ]
  },
  {
   "cell_type": "code",
   "execution_count": null,
   "id": "035c64d2",
   "metadata": {},
   "outputs": [],
   "source": [
    "molecule_functional_groups[molecule_name][0]"
   ]
  },
  {
   "cell_type": "markdown",
   "id": "2b1ce937",
   "metadata": {},
   "source": [
    "### 5: Print functional group CH volumes ###"
   ]
  },
  {
   "cell_type": "code",
   "execution_count": null,
   "id": "0444fa8f",
   "metadata": {},
   "outputs": [],
   "source": [
    "#Note that there are two definitions of FG volume:\n",
    "#Sum of atomic CH volumes -> used when the atomic CHs don't overlap\n",
    "#Volume of CH containing all atoms' positions pooled together -> used when the atomic CHs do overlap\n",
    "#If using the second definition, the total volume will change as well"
   ]
  },
  {
   "cell_type": "code",
   "execution_count": null,
   "id": "7f54b937",
   "metadata": {},
   "outputs": [],
   "source": [
    "from CHQuant.functional_groups import functional_group_nonoverlapping_volume, functional_group_overlapping_volume\n",
    "from CHQuant.functional_group_list import molecule_functional_groups\n",
    "import pandas as pd\n",
    "\n",
    "#Name of molecule in functional_group_list.py\n",
    "molecule_name = \"paracetamol\"\n",
    "\n",
    "#Path to XYZ trajectory\n",
    "input_path = \"example_data/paracetamol_xtb300K_rotated.xyz\"\n",
    "\n",
    "\n",
    "fg_atom_indices, fg_names = molecule_functional_groups[molecule_name]\n",
    "df_rows = []\n",
    "\n",
    "for indices, name in zip(fg_atom_indices, fg_names):\n",
    "    sum_volume = functional_group_nonoverlapping_volume(input_path, indices)\n",
    "    pool_volume = functional_group_overlapping_volume(input_path, indices)\n",
    "    \n",
    "    new_row = {\"Functional group name\":name,\n",
    "               \"Atom indices\":\",\".join([str(i) for i in indices]),\n",
    "              \"Sum volume\": sum_volume,\n",
    "              \"Pool volume\": pool_volume}\n",
    "    \n",
    "    df_rows.append(new_row)\n",
    "\n",
    "#     print(indices)\n",
    "#     print(name)\n",
    "#     print(sum_volume)\n",
    "#     print(pool_volume)\n",
    "df = pd.DataFrame(df_rows)\n",
    "df\n",
    "# df.to_csv(\"example_functional_groups.csv\")"
   ]
  },
  {
   "cell_type": "markdown",
   "id": "12a65bbd",
   "metadata": {},
   "source": [
    "### 6: Generate figure with mist plot and atomic CHs ###"
   ]
  },
  {
   "cell_type": "code",
   "execution_count": null,
   "id": "abd19059",
   "metadata": {},
   "outputs": [],
   "source": [
    "#Not included in module, hull_plot_functions.py is separate \n",
    "#also uses ICHOR; alphashape if you want to do concave hulls, scipy, sklearn if you want dimensionality reduction\n",
    "\n",
    "from CHQuant.vertices import load_directory_convex\n",
    "from Scripts.hull_plot_functions import plot_loaded_convex\n",
    "from Scripts.atom_colouring import add_molecule_spheres\n",
    "\n",
    "import plotly.graph_objects as go\n",
    "\n",
    "#Path to directory containing vertices CSVs\n",
    "input_path = \"example_data/example_vertices/\"\n",
    "\n",
    "#Path to XYZ trajectory\n",
    "geom_path = \"example_data/paracetamol_xtb300K_rotated.xyz\"\n",
    "\n",
    "atom_names, point_clouds, hull_vertices = load_directory_convex(input_path)\n",
    "\n",
    "fig = go.Figure()\n",
    "fig = add_molecule_spheres(fig, geom_path, 0, 0.2, 20)\n",
    "fig = plot_loaded_convex(fig,atom_names, point_clouds, hull_vertices)\n",
    "fig\n",
    "# fig.update(layout_showlegend=False)\n",
    "# fig.update_layout(coloraxis_showscale=False)\n",
    "\n",
    "fig.update_layout(\n",
    "        scene = dict(\n",
    "            xaxis = dict( range=[-8,8],visible=False),\n",
    "            yaxis = dict( range=[-8,8],visible=False),\n",
    "            zaxis = dict( range=[-8,8],visible=False),),)\n",
    "\n",
    "fig\n",
    "\n",
    "# img_bytes = fig.to_image(format=\"png\",scale=4,width=1600, height=1000) #scale adjusts resolution\n",
    "# with open(f\"paracetamol_test.png\", \"wb\") as file:\n",
    "#     file.write(img_bytes)"
   ]
  },
  {
   "cell_type": "markdown",
   "id": "93e3c7e6",
   "metadata": {},
   "source": [
    "### 7: Generate figure with atom colouring based on atomic CH volume ###"
   ]
  },
  {
   "cell_type": "code",
   "execution_count": null,
   "id": "23e701c4",
   "metadata": {},
   "outputs": [],
   "source": [
    "#Not included in module, atom_colouring.py is separate\n",
    "#Requires plotly (for generating plots/figures) and ICHOR (for connectivity)\n",
    "#See atom_colouring_example notebook for more examples/functions\n",
    "#Pymol might be better\n",
    "#There are also some lines you can comment/uncomment in the script itself\n",
    "\n",
    "from Scripts.atom_colouring import ms, matplotlib_to_plotly, add_molecule_spheres_volumescale\n",
    "import pandas as pd\n",
    "import numpy as np\n",
    "import plotly.graph_objects as go\n",
    "\n",
    "#Path to CH data CSV\n",
    "input_path = \"example_data/example.csv\"\n",
    "\n",
    "#Path to XYZ structure to use for the figure\n",
    "mol_path = \"example_data/paracetamol_frame0.xyz\"\n",
    "\n",
    "df = pd.read_csv(input_path, index_col=0)\n",
    "\n",
    "#You'll need to edit this section to match your CSV structure\n",
    "#example_values should be a 1D numpy array\n",
    "example_values = df[\"paracetamol_xtb300K_rotated\"][6:26].values\n",
    "\n",
    "#This figure will be interactive in a notebook, or you can uncomment the later lines to output an image\n",
    "\n",
    "fig = go.Figure()\n",
    "fig = add_molecule_spheres_volumescale(fig, mol_path, example_values, \"turbo\")\n",
    "fig\n",
    "\n",
    "#If the atoms don't look spherical/the figure is cut off, adjust the axis ranges\n",
    "#Uneven ranges will make the spheres look distorted\n",
    "fig.update_layout(\n",
    "        scene = dict(\n",
    "            xaxis = dict( range=[-8,8],visible=False),\n",
    "            yaxis = dict( range=[-8,8],visible=False),\n",
    "            zaxis = dict( range=[-8,8],visible=False),),)\n",
    "\n",
    "fig\n",
    "#Save image\n",
    "# fig.write_image(\"fig.png\") \n",
    "\n",
    "# fig.write_image(f\"fig.png\",format=\"png\",engine=\"kaleido\")\n",
    "\n",
    "# img_bytes = fig.to_image(format=\"png\",scale=4,width=1600, height=1000) #scale adjusts resolution\n",
    "# with open(f\"fig_colorbar.png\", \"wb\") as file:\n",
    "#     file.write(img_bytes)"
   ]
  }
 ],
 "metadata": {
  "kernelspec": {
   "display_name": "Python 3 (ipykernel)",
   "language": "python",
   "name": "python3"
  },
  "language_info": {
   "codemirror_mode": {
    "name": "ipython",
    "version": 3
   },
   "file_extension": ".py",
   "mimetype": "text/x-python",
   "name": "python",
   "nbconvert_exporter": "python",
   "pygments_lexer": "ipython3",
   "version": "3.9.12"
  }
 },
 "nbformat": 4,
 "nbformat_minor": 5
}
